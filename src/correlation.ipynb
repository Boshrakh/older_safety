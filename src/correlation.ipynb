{
  "nbformat": 4,
  "nbformat_minor": 0,
  "metadata": {
    "colab": {
      "provenance": []
    },
    "kernelspec": {
      "name": "python3",
      "display_name": "Python 3"
    },
    "language_info": {
      "name": "python"
    }
  },
  "cells": [
    {
      "cell_type": "code",
      "execution_count": null,
      "metadata": {
        "id": "7pDK8-1XjdQr"
      },
      "outputs": [],
      "source": [
        "import numpy as np\n",
        "import pandas as pd\n",
        "import seaborn as sns\n",
        "import matplotlib.pyplot as plt"
      ]
    },
    {
      "cell_type": "code",
      "source": [
        "siy = ('questionnaire_text_response.csv')\n",
        "df = pd.read_csv(siy)\n",
        "df.head()\n",
        "df=df.drop(\"timestamp\", axis=1)\n",
        "df=df.drop(\"gender\", axis=1)"
      ],
      "metadata": {
        "id": "rzQoC2ZSjeXG"
      },
      "execution_count": null,
      "outputs": []
    },
    {
      "cell_type": "code",
      "source": [
        "correlation_matrix = df.corr()"
      ],
      "metadata": {
        "id": "ZovDVl5Ojq3V"
      },
      "execution_count": null,
      "outputs": []
    }
  ]
}
